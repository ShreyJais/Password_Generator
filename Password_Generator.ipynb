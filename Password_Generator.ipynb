{
  "nbformat": 4,
  "nbformat_minor": 0,
  "metadata": {
    "colab": {
      "provenance": [],
      "authorship_tag": "ABX9TyOlAlKiiKTYQB3H+KX23qXQ",
      "include_colab_link": true
    },
    "kernelspec": {
      "name": "python3",
      "display_name": "Python 3"
    },
    "language_info": {
      "name": "python"
    }
  },
  "cells": [
    {
      "cell_type": "markdown",
      "metadata": {
        "id": "view-in-github",
        "colab_type": "text"
      },
      "source": [
        "<a href=\"https://colab.research.google.com/github/ShreyJais/Password_Generator/blob/main/Password_Generator.ipynb\" target=\"_parent\"><img src=\"https://colab.research.google.com/assets/colab-badge.svg\" alt=\"Open In Colab\"/></a>"
      ]
    },
    {
      "cell_type": "code",
      "execution_count": null,
      "metadata": {
        "id": "zd81H0lEQ75m"
      },
      "outputs": [],
      "source": [
        "#Importing diffrent charaters use to make the password\n",
        "import string\n",
        "pass1 = string.ascii_lowercase\n",
        "pass2 = string.ascii_uppercase\n",
        "pass3 = string.digits\n",
        "pass4 = string.punctuation"
      ]
    },
    {
      "cell_type": "code",
      "source": [
        "pass_len = int(input(\"Enter the length of the password\\t\"))"
      ],
      "metadata": {
        "id": "4LujhijtSCyd"
      },
      "execution_count": null,
      "outputs": []
    },
    {
      "cell_type": "code",
      "source": [
        "#Combining diffrent types of charaters\n",
        "password=[]\n",
        "password.extend(pass1)\n",
        "password.extend(pass2)\n",
        "password.extend(pass3)\n",
        "password.extend(pass4)\n",
        "password"
      ],
      "metadata": {
        "id": "-BT1Yv4LSGgp"
      },
      "execution_count": null,
      "outputs": []
    },
    {
      "cell_type": "code",
      "source": [
        "#Creating a random password\n",
        "import random\n",
        "random.shuffle(password)\n",
        "print(\"Your password is:\\t\", \"\".join(password[0:pass_len]))"
      ],
      "metadata": {
        "id": "3Y5ox66OVOJW"
      },
      "execution_count": null,
      "outputs": []
    },
    {
      "cell_type": "code",
      "source": [],
      "metadata": {
        "id": "cjIqplWWWrjT"
      },
      "execution_count": null,
      "outputs": []
    }
  ]
}